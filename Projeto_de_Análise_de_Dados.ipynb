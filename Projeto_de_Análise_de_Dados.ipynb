{
  "nbformat": 4,
  "nbformat_minor": 0,
  "metadata": {
    "colab": {
      "provenance": [],
      "authorship_tag": "ABX9TyPBgYlsVS5U5ZzkfUp9OCOF",
      "include_colab_link": true
    },
    "kernelspec": {
      "name": "python3",
      "display_name": "Python 3"
    },
    "language_info": {
      "name": "python"
    }
  },
  "cells": [
    {
      "cell_type": "markdown",
      "metadata": {
        "id": "view-in-github",
        "colab_type": "text"
      },
      "source": [
        "<a href=\"https://colab.research.google.com/github/FelipeDiasb/Aula-Python/blob/main/Projeto_de_An%C3%A1lise_de_Dados.ipynb\" target=\"_parent\"><img src=\"https://colab.research.google.com/assets/colab-badge.svg\" alt=\"Open In Colab\"/></a>"
      ]
    },
    {
      "cell_type": "markdown",
      "source": [
        "# **Projeto de Análise de Dados** |Tema: Violência e Segurança Pública – Roubo e Furto de Celulares no **Brasil**\n"
      ],
      "metadata": {
        "id": "VPQbk8bDyog0"
      }
    },
    {
      "cell_type": "markdown",
      "source": [
        "\n",
        "**Tema** Objetivo: Roubo e furto de celulares\n",
        "\n",
        "\n",
        "---\n",
        "\n",
        "\n",
        "Realizar a coleta, tratamento e análise de dados relacionados a roubos e furtos de celulares, identificando padrões, tendências e evolução dos casos ao longo do tempo. A proposta é transformar os dados brutos em informações visuais e compreensíveis.\n",
        "\n",
        "**Fonte dos Dados:**\n",
        "Fórum Brasileiro de Segurança Pública – Anuário Brasileiro de Segurança Pública\n"
      ],
      "metadata": {
        "id": "FXg3Af84dqsR"
      }
    },
    {
      "cell_type": "markdown",
      "source": [
        "1º Etapa importações:"
      ],
      "metadata": {
        "id": "mllHAS4ShdQ8"
      }
    },
    {
      "cell_type": "code",
      "source": [
        "# No caso o Arquivo baixado com formato xlsx e precisamos da biblioteca abaixo.\n",
        "!pip install --quiet openpyxl xlrd pyreadr\n"
      ],
      "metadata": {
        "colab": {
          "base_uri": "https://localhost:8080/"
        },
        "id": "AuPc0cTndzJu",
        "outputId": "3ff2537b-e57c-4771-833d-a2da906c2f80"
      },
      "execution_count": 1,
      "outputs": [
        {
          "output_type": "stream",
          "name": "stdout",
          "text": [
            "\u001b[?25l   \u001b[90m━━━━━━━━━━━━━━━━━━━━━━━━━━━━━━━━━━━━━━━━\u001b[0m \u001b[32m0.0/418.3 kB\u001b[0m \u001b[31m?\u001b[0m eta \u001b[36m-:--:--\u001b[0m\r\u001b[2K   \u001b[91m━━━━━━━━━━━━━━━━━━━━━━━━━━━━━━━━━━━━━━━\u001b[0m\u001b[90m╺\u001b[0m \u001b[32m409.6/418.3 kB\u001b[0m \u001b[31m12.6 MB/s\u001b[0m eta \u001b[36m0:00:01\u001b[0m\r\u001b[2K   \u001b[90m━━━━━━━━━━━━━━━━━━━━━━━━━━━━━━━━━━━━━━━━\u001b[0m \u001b[32m418.3/418.3 kB\u001b[0m \u001b[31m8.3 MB/s\u001b[0m eta \u001b[36m0:00:00\u001b[0m\n",
            "\u001b[?25h"
          ]
        }
      ]
    },
    {
      "cell_type": "code",
      "source": [],
      "metadata": {
        "id": "GP7zgLqHhs-w"
      },
      "execution_count": null,
      "outputs": []
    }
  ]
}