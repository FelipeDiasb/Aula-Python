{
  "nbformat": 4,
  "nbformat_minor": 0,
  "metadata": {
    "colab": {
      "provenance": []
    },
    "kernelspec": {
      "name": "python3",
      "display_name": "Python 3"
    },
    "language_info": {
      "name": "python"
    }
  },
  "cells": [
    {
      "cell_type": "markdown",
      "metadata": {
        "id": "TEoytjq3l-N4"
      },
      "source": [
        "#Demonstração NumPY\n",
        "###Fundamentos de Big Data e Data Science\n",
        "###Aula 6\n",
        "###Prof. Msc. Ailton J. Santos"
      ]
    },
    {
      "cell_type": "markdown",
      "source": [],
      "metadata": {
        "id": "1QrvECxY838b"
      }
    },
    {
      "cell_type": "markdown",
      "metadata": {
        "id": "jpOLq5GYkRN5"
      },
      "source": [
        "#Importar Biblioteca"
      ]
    },
    {
      "cell_type": "code",
      "metadata": {
        "id": "cFSkgT1kkG8s"
      },
      "source": [
        "import numpy as np"
      ],
      "execution_count": 2,
      "outputs": []
    },
    {
      "cell_type": "markdown",
      "metadata": {
        "id": "mrv4hSqPkVgo"
      },
      "source": [
        "#Gerar Dados Aleatórios"
      ]
    },
    {
      "cell_type": "markdown",
      "metadata": {
        "id": "YAwBfOaPkzka"
      },
      "source": [
        "##Gerar um NDArray de 2x3 (duas lista com 3 elementos)"
      ]
    },
    {
      "cell_type": "code",
      "metadata": {
        "id": "DjywrbJ1kTOd"
      },
      "source": [
        "dados=np.random.randint(0,10, size = (3,3))"
      ],
      "execution_count": 11,
      "outputs": []
    },
    {
      "cell_type": "code",
      "metadata": {
        "id": "sXgOUiCJkol-",
        "colab": {
          "base_uri": "https://localhost:8080/"
        },
        "outputId": "bf96b57f-d6e1-49e3-a3fa-2f52f4bd2659"
      },
      "source": [
        "dados"
      ],
      "execution_count": 12,
      "outputs": [
        {
          "output_type": "execute_result",
          "data": {
            "text/plain": [
              "array([[3, 4, 9],\n",
              "       [8, 1, 0],\n",
              "       [8, 3, 2]])"
            ]
          },
          "metadata": {},
          "execution_count": 12
        }
      ]
    },
    {
      "cell_type": "code",
      "source": [
        "A = [[7,8,10],[9,5,4],[0,1,3]]\n",
        "print(A)\n",
        "print(A[1][0])\n",
        "\n",
        "A_array =np.array(A)\n",
        "\n",
        "print(A_array)"
      ],
      "metadata": {
        "colab": {
          "base_uri": "https://localhost:8080/"
        },
        "id": "GBBvJ9Ky1U7G",
        "outputId": "78a01ccc-9335-4654-e05b-3a5c7cabd899"
      },
      "execution_count": null,
      "outputs": [
        {
          "output_type": "stream",
          "name": "stdout",
          "text": [
            "[[7, 8, 10], [9, 5, 4], [0, 1, 3]]\n",
            "9\n",
            "[[ 7  8 10]\n",
            " [ 9  5  4]\n",
            " [ 0  1  3]]\n"
          ]
        }
      ]
    },
    {
      "cell_type": "code",
      "source": [],
      "metadata": {
        "id": "x6oapAKiowJR"
      },
      "execution_count": null,
      "outputs": []
    },
    {
      "cell_type": "markdown",
      "metadata": {
        "id": "V4Ev9oXtkpEC"
      },
      "source": [
        "#Tipo do Array"
      ]
    },
    {
      "cell_type": "code",
      "metadata": {
        "id": "mgnd5vNfksE7",
        "colab": {
          "base_uri": "https://localhost:8080/"
        },
        "outputId": "2440f703-4158-45e2-f9c0-11af524d4ff4"
      },
      "source": [
        "dados.dtype"
      ],
      "execution_count": 13,
      "outputs": [
        {
          "output_type": "execute_result",
          "data": {
            "text/plain": [
              "dtype('int64')"
            ]
          },
          "metadata": {},
          "execution_count": 13
        }
      ]
    },
    {
      "cell_type": "markdown",
      "metadata": {
        "id": "jIO1uyWalCVb"
      },
      "source": [
        "#Tamanho e quantidade de dimensões"
      ]
    },
    {
      "cell_type": "code",
      "metadata": {
        "id": "244eBe1rlEnU",
        "colab": {
          "base_uri": "https://localhost:8080/"
        },
        "outputId": "84bccc86-c53c-4595-884d-9c5648bafa73"
      },
      "source": [
        "dados.shape"
      ],
      "execution_count": 14,
      "outputs": [
        {
          "output_type": "execute_result",
          "data": {
            "text/plain": [
              "(3, 3)"
            ]
          },
          "metadata": {},
          "execution_count": 14
        }
      ]
    },
    {
      "cell_type": "code",
      "metadata": {
        "id": "d6IRA3j9lNLP",
        "colab": {
          "base_uri": "https://localhost:8080/"
        },
        "outputId": "a2796fd2-7635-4cc9-e95c-06021ba1a9b2"
      },
      "source": [
        "dados.ndim"
      ],
      "execution_count": 15,
      "outputs": [
        {
          "output_type": "execute_result",
          "data": {
            "text/plain": [
              "2"
            ]
          },
          "metadata": {},
          "execution_count": 15
        }
      ]
    },
    {
      "cell_type": "markdown",
      "metadata": {
        "id": "X5ucpkoIlNaY"
      },
      "source": [
        "#Criar ndarray usando a função array\n",
        "##Ao criar o array a função array tenta utilizar o melhor tipo de dado"
      ]
    },
    {
      "cell_type": "code",
      "metadata": {
        "id": "ATn3OAb3lVug"
      },
      "source": [
        "lista=[1,2,5,7.8,1.25]"
      ],
      "execution_count": 16,
      "outputs": []
    },
    {
      "cell_type": "code",
      "metadata": {
        "id": "3F1psHfslfm6"
      },
      "source": [
        "dados2=np.array(lista)"
      ],
      "execution_count": 17,
      "outputs": []
    },
    {
      "cell_type": "code",
      "metadata": {
        "id": "opxmWm4slfzw",
        "colab": {
          "base_uri": "https://localhost:8080/"
        },
        "outputId": "2f416249-1bd2-450f-84ec-7aeb4cb791b4"
      },
      "source": [
        "dados2"
      ],
      "execution_count": 18,
      "outputs": [
        {
          "output_type": "execute_result",
          "data": {
            "text/plain": [
              "array([1.  , 2.  , 5.  , 7.8 , 1.25])"
            ]
          },
          "metadata": {},
          "execution_count": 18
        }
      ]
    },
    {
      "cell_type": "code",
      "source": [
        "dados2.dtype"
      ],
      "metadata": {
        "colab": {
          "base_uri": "https://localhost:8080/"
        },
        "id": "fNzyRQgG7L8k",
        "outputId": "e4fe6e34-bd8c-47bc-fd9b-1ebc30e4a0c9"
      },
      "execution_count": 19,
      "outputs": [
        {
          "output_type": "execute_result",
          "data": {
            "text/plain": [
              "dtype('float64')"
            ]
          },
          "metadata": {},
          "execution_count": 19
        }
      ]
    },
    {
      "cell_type": "code",
      "metadata": {
        "id": "J8s9rrB6lf_W",
        "colab": {
          "base_uri": "https://localhost:8080/"
        },
        "outputId": "7c5683da-5891-4622-ff49-4e7503ccf475"
      },
      "source": [
        "lista2=[[1,2,3],[4,3,2], [8, 9, 7]]\n",
        "print(lista2)"
      ],
      "execution_count": 22,
      "outputs": [
        {
          "output_type": "stream",
          "name": "stdout",
          "text": [
            "[[1, 2, 3], [4, 3, 2], [8, 9, 7]]\n"
          ]
        }
      ]
    },
    {
      "cell_type": "code",
      "metadata": {
        "id": "sK2aaqR5lgJ6"
      },
      "source": [
        "dados3=np.array(lista2)"
      ],
      "execution_count": 23,
      "outputs": []
    },
    {
      "cell_type": "code",
      "metadata": {
        "id": "KkIo6XA4lgVf",
        "colab": {
          "base_uri": "https://localhost:8080/"
        },
        "outputId": "d41d1f60-ac47-45e5-c1c9-a94eb4e328f7"
      },
      "source": [
        "dados3"
      ],
      "execution_count": 24,
      "outputs": [
        {
          "output_type": "execute_result",
          "data": {
            "text/plain": [
              "array([[1, 2, 3],\n",
              "       [4, 3, 2],\n",
              "       [8, 9, 7]])"
            ]
          },
          "metadata": {},
          "execution_count": 24
        }
      ]
    },
    {
      "cell_type": "code",
      "source": [
        "dados2.dtype"
      ],
      "metadata": {
        "colab": {
          "base_uri": "https://localhost:8080/"
        },
        "id": "aKdDcIjRLxx1",
        "outputId": "a7c804e3-535f-4619-e0d7-00a306d2f970"
      },
      "execution_count": 25,
      "outputs": [
        {
          "output_type": "execute_result",
          "data": {
            "text/plain": [
              "dtype('float64')"
            ]
          },
          "metadata": {},
          "execution_count": 25
        }
      ]
    },
    {
      "cell_type": "markdown",
      "metadata": {
        "id": "s3fEaqPDlg5t"
      },
      "source": [
        "#Outras maneiras de criar arrays"
      ]
    },
    {
      "cell_type": "code",
      "metadata": {
        "id": "4M0bvr9qlkmX"
      },
      "source": [
        "dadoszero=np.zeros(10)"
      ],
      "execution_count": 26,
      "outputs": []
    },
    {
      "cell_type": "code",
      "metadata": {
        "id": "KEnLMBZul1iY",
        "colab": {
          "base_uri": "https://localhost:8080/"
        },
        "outputId": "53407572-599e-4fdf-ceb1-da2df208e0b8"
      },
      "source": [
        "dadoszero"
      ],
      "execution_count": 28,
      "outputs": [
        {
          "output_type": "execute_result",
          "data": {
            "text/plain": [
              "array([0., 0., 0., 0., 0., 0., 0., 0., 0., 0.])"
            ]
          },
          "metadata": {},
          "execution_count": 28
        }
      ]
    },
    {
      "cell_type": "code",
      "metadata": {
        "id": "LfsY6eXWl1uf"
      },
      "source": [
        "dadoszero2=np.zeros((3,3))"
      ],
      "execution_count": 29,
      "outputs": []
    },
    {
      "cell_type": "code",
      "metadata": {
        "id": "WrLuTYyAl131",
        "colab": {
          "base_uri": "https://localhost:8080/"
        },
        "outputId": "cc10eb13-18aa-4c25-cea2-a205d943bd34"
      },
      "source": [
        "dadoszero2"
      ],
      "execution_count": 30,
      "outputs": [
        {
          "output_type": "execute_result",
          "data": {
            "text/plain": [
              "array([[0., 0., 0.],\n",
              "       [0., 0., 0.],\n",
              "       [0., 0., 0.]])"
            ]
          },
          "metadata": {},
          "execution_count": 30
        }
      ]
    },
    {
      "cell_type": "code",
      "metadata": {
        "id": "YbSBg3ezl2CM"
      },
      "source": [
        "dadosum=np.ones(5)"
      ],
      "execution_count": 31,
      "outputs": []
    },
    {
      "cell_type": "code",
      "metadata": {
        "id": "YU4gO8mBl2MY",
        "colab": {
          "base_uri": "https://localhost:8080/"
        },
        "outputId": "2de4cbf0-090e-47f4-f5b5-001dc413e42c"
      },
      "source": [
        "dadosum"
      ],
      "execution_count": 32,
      "outputs": [
        {
          "output_type": "execute_result",
          "data": {
            "text/plain": [
              "array([1., 1., 1., 1., 1.])"
            ]
          },
          "metadata": {},
          "execution_count": 32
        }
      ]
    },
    {
      "cell_type": "code",
      "metadata": {
        "id": "F_H3GgYEl2Ww"
      },
      "source": [
        "dadosseq=np.arange(10)"
      ],
      "execution_count": 33,
      "outputs": []
    },
    {
      "cell_type": "code",
      "metadata": {
        "id": "FlueD7j-l2gm",
        "colab": {
          "base_uri": "https://localhost:8080/"
        },
        "outputId": "8abae631-d1b2-45de-9e47-ac4180c1b0a1"
      },
      "source": [
        "dadosseq"
      ],
      "execution_count": 34,
      "outputs": [
        {
          "output_type": "execute_result",
          "data": {
            "text/plain": [
              "array([0, 1, 2, 3, 4, 5, 6, 7, 8, 9])"
            ]
          },
          "metadata": {},
          "execution_count": 34
        }
      ]
    },
    {
      "cell_type": "code",
      "metadata": {
        "id": "VYXa3v5Sl2qc"
      },
      "source": [
        "dadosseq2=np.arange(0,20,2)"
      ],
      "execution_count": 35,
      "outputs": []
    },
    {
      "cell_type": "code",
      "metadata": {
        "id": "EZT0vwFol20e",
        "colab": {
          "base_uri": "https://localhost:8080/"
        },
        "outputId": "ef48e538-970d-4fb3-d01e-bef0873b0354"
      },
      "source": [
        "dadosseq2"
      ],
      "execution_count": 36,
      "outputs": [
        {
          "output_type": "execute_result",
          "data": {
            "text/plain": [
              "array([ 0,  2,  4,  6,  8, 10, 12, 14, 16, 18])"
            ]
          },
          "metadata": {},
          "execution_count": 36
        }
      ]
    },
    {
      "cell_type": "code",
      "metadata": {
        "id": "PVbxIjl7l2_M",
        "colab": {
          "base_uri": "https://localhost:8080/"
        },
        "outputId": "a77adac8-eecc-4896-8416-63c0819daeae"
      },
      "source": [
        "dadosseq.dtype"
      ],
      "execution_count": 37,
      "outputs": [
        {
          "output_type": "execute_result",
          "data": {
            "text/plain": [
              "dtype('int64')"
            ]
          },
          "metadata": {},
          "execution_count": 37
        }
      ]
    },
    {
      "cell_type": "code",
      "metadata": {
        "id": "Ohz28F_Zl3I6"
      },
      "source": [
        "dadosseqf=dadosseq.astype(np.float64)"
      ],
      "execution_count": 38,
      "outputs": []
    },
    {
      "cell_type": "code",
      "metadata": {
        "id": "4uh4NxpUl3S4",
        "colab": {
          "base_uri": "https://localhost:8080/"
        },
        "outputId": "8557ffcd-ffcd-42dc-b199-05f6187e8632"
      },
      "source": [
        "dadosseqf"
      ],
      "execution_count": null,
      "outputs": [
        {
          "output_type": "execute_result",
          "data": {
            "text/plain": [
              "array([0., 1., 2., 3., 4., 5., 6., 7., 8., 9.])"
            ]
          },
          "metadata": {},
          "execution_count": 36
        }
      ]
    },
    {
      "cell_type": "code",
      "metadata": {
        "id": "c3y7gk_Kl3cX",
        "colab": {
          "base_uri": "https://localhost:8080/"
        },
        "outputId": "2638d6e0-f705-4879-d368-8a1d5b18cb2b"
      },
      "source": [
        "dadosseqf.dtype"
      ],
      "execution_count": null,
      "outputs": [
        {
          "output_type": "execute_result",
          "data": {
            "text/plain": [
              "dtype('float64')"
            ]
          },
          "metadata": {},
          "execution_count": 37
        }
      ]
    },
    {
      "cell_type": "markdown",
      "metadata": {
        "id": "DqnoC8mMl30_"
      },
      "source": [
        "#Aritmética com Arrays"
      ]
    },
    {
      "cell_type": "code",
      "metadata": {
        "id": "5V82lGYfl7gz"
      },
      "source": [
        "dados4=np.array([[1,2,3],[4,5,6]])"
      ],
      "execution_count": 39,
      "outputs": []
    },
    {
      "cell_type": "code",
      "metadata": {
        "id": "HCIbYGzWoM5p",
        "colab": {
          "base_uri": "https://localhost:8080/"
        },
        "outputId": "0357657e-d429-43f5-84dc-6031277733c7"
      },
      "source": [
        "dados4"
      ],
      "execution_count": 40,
      "outputs": [
        {
          "output_type": "execute_result",
          "data": {
            "text/plain": [
              "array([[1, 2, 3],\n",
              "       [4, 5, 6]])"
            ]
          },
          "metadata": {},
          "execution_count": 40
        }
      ]
    },
    {
      "cell_type": "code",
      "metadata": {
        "id": "xwCiWFhVoNGp",
        "colab": {
          "base_uri": "https://localhost:8080/"
        },
        "outputId": "4dab20e5-29e0-4827-9e21-4d31b8bcce5d"
      },
      "source": [
        "dados4*dados4"
      ],
      "execution_count": 41,
      "outputs": [
        {
          "output_type": "execute_result",
          "data": {
            "text/plain": [
              "array([[ 1,  4,  9],\n",
              "       [16, 25, 36]])"
            ]
          },
          "metadata": {},
          "execution_count": 41
        }
      ]
    },
    {
      "cell_type": "code",
      "metadata": {
        "id": "urDD37PZoNRh",
        "colab": {
          "base_uri": "https://localhost:8080/"
        },
        "outputId": "9c166381-20fa-4b37-aeee-61a4f01263d4"
      },
      "source": [
        "dados4-dados4"
      ],
      "execution_count": 42,
      "outputs": [
        {
          "output_type": "execute_result",
          "data": {
            "text/plain": [
              "array([[0, 0, 0],\n",
              "       [0, 0, 0]])"
            ]
          },
          "metadata": {},
          "execution_count": 42
        }
      ]
    },
    {
      "cell_type": "code",
      "metadata": {
        "id": "WflbnN_EoNbi",
        "colab": {
          "base_uri": "https://localhost:8080/"
        },
        "outputId": "4bc0b7b0-6169-4379-b39d-405585129d89"
      },
      "source": [
        "1/dados4"
      ],
      "execution_count": 43,
      "outputs": [
        {
          "output_type": "execute_result",
          "data": {
            "text/plain": [
              "array([[1.        , 0.5       , 0.33333333],\n",
              "       [0.25      , 0.2       , 0.16666667]])"
            ]
          },
          "metadata": {},
          "execution_count": 43
        }
      ]
    },
    {
      "cell_type": "code",
      "metadata": {
        "id": "2dIkjpEUoNj-"
      },
      "source": [
        "dados5=dados4+dados4"
      ],
      "execution_count": 44,
      "outputs": []
    },
    {
      "cell_type": "code",
      "source": [
        "dados5"
      ],
      "metadata": {
        "colab": {
          "base_uri": "https://localhost:8080/"
        },
        "id": "D9Bn45d62En7",
        "outputId": "155c962d-456e-4f49-ec07-ae7c98d9c36e"
      },
      "execution_count": 45,
      "outputs": [
        {
          "output_type": "execute_result",
          "data": {
            "text/plain": [
              "array([[ 2,  4,  6],\n",
              "       [ 8, 10, 12]])"
            ]
          },
          "metadata": {},
          "execution_count": 45
        }
      ]
    },
    {
      "cell_type": "code",
      "source": [
        "dados9=np.array([[8,2,3],[4,2,6]])"
      ],
      "metadata": {
        "id": "Fmq6jWcgyQ1w"
      },
      "execution_count": 46,
      "outputs": []
    },
    {
      "cell_type": "code",
      "source": [
        "dados9"
      ],
      "metadata": {
        "colab": {
          "base_uri": "https://localhost:8080/"
        },
        "id": "S4nx0bh-NmMX",
        "outputId": "d5e0c685-ea18-497f-e938-7bef1b032014"
      },
      "execution_count": 47,
      "outputs": [
        {
          "output_type": "execute_result",
          "data": {
            "text/plain": [
              "array([[8, 2, 3],\n",
              "       [4, 2, 6]])"
            ]
          },
          "metadata": {},
          "execution_count": 47
        }
      ]
    },
    {
      "cell_type": "code",
      "source": [
        "dados4"
      ],
      "metadata": {
        "colab": {
          "base_uri": "https://localhost:8080/"
        },
        "id": "LplufTOlNsHv",
        "outputId": "7c2b839a-bce5-47af-846b-031e0c8129eb"
      },
      "execution_count": 48,
      "outputs": [
        {
          "output_type": "execute_result",
          "data": {
            "text/plain": [
              "array([[1, 2, 3],\n",
              "       [4, 5, 6]])"
            ]
          },
          "metadata": {},
          "execution_count": 48
        }
      ]
    },
    {
      "cell_type": "code",
      "metadata": {
        "id": "GHLe7q4xoNtH",
        "colab": {
          "base_uri": "https://localhost:8080/"
        },
        "outputId": "eb31fb98-a942-407f-b003-543df0c4a8cd"
      },
      "source": [
        "dados5*10"
      ],
      "execution_count": 49,
      "outputs": [
        {
          "output_type": "execute_result",
          "data": {
            "text/plain": [
              "array([[ 20,  40,  60],\n",
              "       [ 80, 100, 120]])"
            ]
          },
          "metadata": {},
          "execution_count": 49
        }
      ]
    },
    {
      "cell_type": "code",
      "metadata": {
        "id": "3kGp1kP5oN1l",
        "colab": {
          "base_uri": "https://localhost:8080/"
        },
        "outputId": "d5a9ace4-0eb2-432f-9060-501a7cf01ff3"
      },
      "source": [
        "dados4"
      ],
      "execution_count": 50,
      "outputs": [
        {
          "output_type": "execute_result",
          "data": {
            "text/plain": [
              "array([[1, 2, 3],\n",
              "       [4, 5, 6]])"
            ]
          },
          "metadata": {},
          "execution_count": 50
        }
      ]
    },
    {
      "cell_type": "code",
      "metadata": {
        "id": "coWixZSWoN9_",
        "colab": {
          "base_uri": "https://localhost:8080/"
        },
        "outputId": "bd162919-67fd-4191-95da-d68ee893b838"
      },
      "source": [
        "dados9>=dados4"
      ],
      "execution_count": 51,
      "outputs": [
        {
          "output_type": "execute_result",
          "data": {
            "text/plain": [
              "array([[ True,  True,  True],\n",
              "       [ True, False,  True]])"
            ]
          },
          "metadata": {},
          "execution_count": 51
        }
      ]
    },
    {
      "cell_type": "markdown",
      "metadata": {
        "id": "iMnxfGeAoOd3"
      },
      "source": [
        "#Indexação"
      ]
    },
    {
      "cell_type": "code",
      "metadata": {
        "id": "YLXulkzEoSNF",
        "colab": {
          "base_uri": "https://localhost:8080/"
        },
        "outputId": "f8d57bd6-0438-4001-950c-1d7ba7a5a95c"
      },
      "source": [
        "dadosseq"
      ],
      "execution_count": 71,
      "outputs": [
        {
          "output_type": "execute_result",
          "data": {
            "text/plain": [
              "array([  0,   1, 333, 333,  20,  20,   6,   7,   8,   9])"
            ]
          },
          "metadata": {},
          "execution_count": 71
        }
      ]
    },
    {
      "cell_type": "code",
      "source": [
        "dados66=np.array([55,2,3,8,9,60,45,54])"
      ],
      "metadata": {
        "id": "-WMH2m6IzZjB"
      },
      "execution_count": 53,
      "outputs": []
    },
    {
      "cell_type": "code",
      "source": [
        "print(dados66[1:7])"
      ],
      "metadata": {
        "colab": {
          "base_uri": "https://localhost:8080/"
        },
        "id": "_1rgK9eLOsd_",
        "outputId": "49b211f7-5432-467f-ed88-719ae770355c"
      },
      "execution_count": 54,
      "outputs": [
        {
          "output_type": "stream",
          "name": "stdout",
          "text": [
            "[ 2  3  8  9 60 45]\n"
          ]
        }
      ]
    },
    {
      "cell_type": "code",
      "metadata": {
        "id": "k0Nqky2KoS4g",
        "colab": {
          "base_uri": "https://localhost:8080/"
        },
        "outputId": "5bf16f68-1fbe-4719-a424-5788386daeb9"
      },
      "source": [
        "for i in range(8):\n",
        "  print(dados66[i])"
      ],
      "execution_count": 55,
      "outputs": [
        {
          "output_type": "stream",
          "name": "stdout",
          "text": [
            "55\n",
            "2\n",
            "3\n",
            "8\n",
            "9\n",
            "60\n",
            "45\n",
            "54\n"
          ]
        }
      ]
    },
    {
      "cell_type": "markdown",
      "metadata": {
        "id": "ebBAF2tCoUN6"
      },
      "source": [
        "## Diferente de uma lista python, um recorte (fatia) de um ndarray sofrerá broadcast - é como se fosse uma view de bando de dados.\n",
        "##Com conjuntos imensos de dados isso é uma grande vantagem em relação a performance"
      ]
    },
    {
      "cell_type": "code",
      "metadata": {
        "id": "q3a3YoXtofTZ",
        "colab": {
          "base_uri": "https://localhost:8080/"
        },
        "outputId": "ee025780-4978-4ea5-d029-c8949a92ad7d"
      },
      "source": [
        "dadosseq[3:6]"
      ],
      "execution_count": 56,
      "outputs": [
        {
          "output_type": "execute_result",
          "data": {
            "text/plain": [
              "array([3, 4, 5])"
            ]
          },
          "metadata": {},
          "execution_count": 56
        }
      ]
    },
    {
      "cell_type": "code",
      "metadata": {
        "id": "QYN8owupopIr"
      },
      "source": [
        "dadosseq[3:6]=20"
      ],
      "execution_count": 58,
      "outputs": []
    },
    {
      "cell_type": "code",
      "metadata": {
        "id": "-ZADuL5HopUo",
        "colab": {
          "base_uri": "https://localhost:8080/"
        },
        "outputId": "85ffa79e-3952-4c02-9e34-f752aa2a8b4e"
      },
      "source": [
        "dadosseq"
      ],
      "execution_count": 59,
      "outputs": [
        {
          "output_type": "execute_result",
          "data": {
            "text/plain": [
              "array([ 0,  1,  2, 20, 20, 20,  6,  7,  8,  9])"
            ]
          },
          "metadata": {},
          "execution_count": 59
        }
      ]
    },
    {
      "cell_type": "code",
      "metadata": {
        "id": "RJ6kyia3opd8"
      },
      "source": [
        "fatiadados=dadosseq[2:4]"
      ],
      "execution_count": 62,
      "outputs": []
    },
    {
      "cell_type": "code",
      "metadata": {
        "id": "aIF_ziRBopmj",
        "colab": {
          "base_uri": "https://localhost:8080/"
        },
        "outputId": "bb9e0e25-8bba-41e1-e7fc-c7d2e1d3e549"
      },
      "source": [
        "fatiadados"
      ],
      "execution_count": 64,
      "outputs": [
        {
          "output_type": "execute_result",
          "data": {
            "text/plain": [
              "array([ 2, 20])"
            ]
          },
          "metadata": {},
          "execution_count": 64
        }
      ]
    },
    {
      "cell_type": "code",
      "metadata": {
        "id": "NIEvU3mTopup"
      },
      "source": [
        "fatiadados[1]=2000"
      ],
      "execution_count": 65,
      "outputs": []
    },
    {
      "cell_type": "code",
      "metadata": {
        "id": "RfCQI2hoop3Q",
        "colab": {
          "base_uri": "https://localhost:8080/"
        },
        "outputId": "37a96bad-0409-4c3c-c019-c4953d3946f7"
      },
      "source": [
        "fatiadados"
      ],
      "execution_count": 66,
      "outputs": [
        {
          "output_type": "execute_result",
          "data": {
            "text/plain": [
              "array([   2, 2000])"
            ]
          },
          "metadata": {},
          "execution_count": 66
        }
      ]
    },
    {
      "cell_type": "code",
      "metadata": {
        "id": "1eaup7ipop-0",
        "colab": {
          "base_uri": "https://localhost:8080/"
        },
        "outputId": "198ba7d0-7126-44c2-af55-f2dfbb1365f7"
      },
      "source": [
        "dadosseq"
      ],
      "execution_count": 67,
      "outputs": [
        {
          "output_type": "execute_result",
          "data": {
            "text/plain": [
              "array([   0,    1,    2, 2000,   20,   20,    6,    7,    8,    9])"
            ]
          },
          "metadata": {},
          "execution_count": 67
        }
      ]
    },
    {
      "cell_type": "code",
      "metadata": {
        "id": "UOFXy0cWoqHb"
      },
      "source": [
        "fatiadados[:]=333"
      ],
      "execution_count": 69,
      "outputs": []
    },
    {
      "cell_type": "code",
      "metadata": {
        "id": "xDZ8Y3MRoqQk",
        "colab": {
          "base_uri": "https://localhost:8080/"
        },
        "outputId": "5224f5b5-c2c6-45a3-af8d-657c34a67514"
      },
      "source": [
        "dadosseq"
      ],
      "execution_count": 70,
      "outputs": [
        {
          "output_type": "execute_result",
          "data": {
            "text/plain": [
              "array([  0,   1, 333, 333,  20,  20,   6,   7,   8,   9])"
            ]
          },
          "metadata": {},
          "execution_count": 70
        }
      ]
    },
    {
      "cell_type": "markdown",
      "metadata": {
        "id": "S-jlEnYooqig"
      },
      "source": [
        "#Copiar dados"
      ]
    },
    {
      "cell_type": "code",
      "metadata": {
        "id": "3nItZMloCKlU"
      },
      "source": [
        "fatia2=dadosseq[2:4].copy()"
      ],
      "execution_count": 73,
      "outputs": []
    },
    {
      "cell_type": "code",
      "metadata": {
        "id": "UqU_PxlDCYUa",
        "colab": {
          "base_uri": "https://localhost:8080/"
        },
        "outputId": "8c4c2f1e-88d1-483b-e3ae-7bc0ddbf376e"
      },
      "source": [
        "fatia2"
      ],
      "execution_count": 74,
      "outputs": [
        {
          "output_type": "execute_result",
          "data": {
            "text/plain": [
              "array([333, 333])"
            ]
          },
          "metadata": {},
          "execution_count": 74
        }
      ]
    },
    {
      "cell_type": "code",
      "metadata": {
        "id": "VA356-xyCYel"
      },
      "source": [
        "fatia2[:]=111"
      ],
      "execution_count": 75,
      "outputs": []
    },
    {
      "cell_type": "code",
      "metadata": {
        "id": "8-5I7F-VCYob",
        "colab": {
          "base_uri": "https://localhost:8080/"
        },
        "outputId": "0fae05cc-e76f-40f2-abfc-d4f5b84cdb1b"
      },
      "source": [
        "fatia2"
      ],
      "execution_count": 76,
      "outputs": [
        {
          "output_type": "execute_result",
          "data": {
            "text/plain": [
              "array([111, 111])"
            ]
          },
          "metadata": {},
          "execution_count": 76
        }
      ]
    },
    {
      "cell_type": "code",
      "metadata": {
        "id": "NJ25aY4oCYxR",
        "colab": {
          "base_uri": "https://localhost:8080/"
        },
        "outputId": "253e453c-c73d-4805-841e-940b0f0b7b10"
      },
      "source": [
        "dadosseq"
      ],
      "execution_count": 77,
      "outputs": [
        {
          "output_type": "execute_result",
          "data": {
            "text/plain": [
              "array([  0,   1, 333, 333,  20,  20,   6,   7,   8,   9])"
            ]
          },
          "metadata": {},
          "execution_count": 77
        }
      ]
    },
    {
      "cell_type": "markdown",
      "metadata": {
        "id": "sDoOIJPeCZBc"
      },
      "source": [
        "#Array com mais de uma dimensão"
      ]
    },
    {
      "cell_type": "code",
      "metadata": {
        "id": "AcCSi4mCCg_t"
      },
      "source": [
        "dados6=np.array([[1,2,3],[4,5,6],[7,8,9]])"
      ],
      "execution_count": null,
      "outputs": []
    },
    {
      "cell_type": "code",
      "metadata": {
        "id": "DUHrhpRICr6Q",
        "colab": {
          "base_uri": "https://localhost:8080/"
        },
        "outputId": "97ec387c-1b7f-42e5-ec6f-e04605ae9a6e"
      },
      "source": [
        "dados6"
      ],
      "execution_count": null,
      "outputs": [
        {
          "output_type": "execute_result",
          "data": {
            "text/plain": [
              "array([[1, 2, 3],\n",
              "       [4, 5, 6],\n",
              "       [7, 8, 9]])"
            ]
          },
          "metadata": {},
          "execution_count": 73
        }
      ]
    },
    {
      "cell_type": "code",
      "metadata": {
        "id": "YdItU-52CsBp",
        "colab": {
          "base_uri": "https://localhost:8080/"
        },
        "outputId": "41ad1c32-74f5-4f22-d3b6-45f5b9f9c8fd"
      },
      "source": [
        "dados6[1,2]"
      ],
      "execution_count": null,
      "outputs": [
        {
          "output_type": "execute_result",
          "data": {
            "text/plain": [
              "np.int64(6)"
            ]
          },
          "metadata": {},
          "execution_count": 74
        }
      ]
    },
    {
      "cell_type": "markdown",
      "metadata": {
        "id": "BsvSgY8WCsSh"
      },
      "source": [
        "#Máscaras"
      ]
    },
    {
      "cell_type": "code",
      "metadata": {
        "id": "H5yiRY2mCuwu",
        "colab": {
          "base_uri": "https://localhost:8080/"
        },
        "outputId": "6c1ee33e-ecd4-4689-8080-af8d547f2808"
      },
      "source": [
        "dadosseq"
      ],
      "execution_count": null,
      "outputs": [
        {
          "output_type": "execute_result",
          "data": {
            "text/plain": [
              "array([  0,   1, 333, 333,  20,  20,   6,   7,   8,   9])"
            ]
          },
          "metadata": {},
          "execution_count": 75
        }
      ]
    },
    {
      "cell_type": "code",
      "metadata": {
        "id": "2yxWAQz3C-MS"
      },
      "source": [
        "mascara=(dadosseq<100)"
      ],
      "execution_count": null,
      "outputs": []
    },
    {
      "cell_type": "code",
      "metadata": {
        "id": "390kvylXC-T_",
        "colab": {
          "base_uri": "https://localhost:8080/"
        },
        "outputId": "52234a42-eeb8-4910-91a8-98ec0aeaea54"
      },
      "source": [
        "mascara"
      ],
      "execution_count": null,
      "outputs": [
        {
          "output_type": "execute_result",
          "data": {
            "text/plain": [
              "array([ True,  True, False, False,  True,  True,  True,  True,  True,\n",
              "        True])"
            ]
          },
          "metadata": {},
          "execution_count": 96
        }
      ]
    },
    {
      "cell_type": "code",
      "metadata": {
        "id": "jIhhQxAUC-aX"
      },
      "source": [
        "dadosseq[dadosseq<20]=8888"
      ],
      "execution_count": null,
      "outputs": []
    },
    {
      "cell_type": "code",
      "metadata": {
        "id": "bGy3pFhxC-gk",
        "colab": {
          "base_uri": "https://localhost:8080/"
        },
        "outputId": "7a8b3af6-5ca1-4da9-f71d-3c1493d57318"
      },
      "source": [
        "dadosseq"
      ],
      "execution_count": null,
      "outputs": [
        {
          "output_type": "execute_result",
          "data": {
            "text/plain": [
              "array([8888, 8888,  333,  333,   20,   20, 8888, 8888, 8888, 8888])"
            ]
          },
          "metadata": {},
          "execution_count": 98
        }
      ]
    },
    {
      "cell_type": "markdown",
      "metadata": {
        "id": "aTqZBks_DBH3"
      },
      "source": [
        "#Transposição"
      ]
    },
    {
      "cell_type": "code",
      "metadata": {
        "id": "S90bX_yCDFkX"
      },
      "source": [
        "dados7=np.arange(15).reshape((3,5))"
      ],
      "execution_count": null,
      "outputs": []
    },
    {
      "cell_type": "code",
      "metadata": {
        "id": "kXiKyU7FDhuo",
        "colab": {
          "base_uri": "https://localhost:8080/"
        },
        "outputId": "fd4b9518-9027-4ea2-e759-2748351b10fd"
      },
      "source": [
        "dados7"
      ],
      "execution_count": null,
      "outputs": [
        {
          "output_type": "execute_result",
          "data": {
            "text/plain": [
              "array([[ 0,  1,  2,  3,  4],\n",
              "       [ 5,  6,  7,  8,  9],\n",
              "       [10, 11, 12, 13, 14]])"
            ]
          },
          "metadata": {},
          "execution_count": 86
        }
      ]
    },
    {
      "cell_type": "code",
      "metadata": {
        "id": "fliSJmroDh3w",
        "colab": {
          "base_uri": "https://localhost:8080/"
        },
        "outputId": "cf0227e6-8076-4ab4-f1a2-8cae1b6e2ce6"
      },
      "source": [
        "dados7.T"
      ],
      "execution_count": null,
      "outputs": [
        {
          "output_type": "execute_result",
          "data": {
            "text/plain": [
              "array([[ 0,  5, 10],\n",
              "       [ 1,  6, 11],\n",
              "       [ 2,  7, 12],\n",
              "       [ 3,  8, 13],\n",
              "       [ 4,  9, 14]])"
            ]
          },
          "metadata": {},
          "execution_count": 87
        }
      ]
    },
    {
      "cell_type": "markdown",
      "metadata": {
        "id": "CrCzsic4Dk5r"
      },
      "source": [
        "#Multiplicação de Matrizes com Dots"
      ]
    },
    {
      "cell_type": "code",
      "metadata": {
        "id": "8Q02OJuFDn8i",
        "colab": {
          "base_uri": "https://localhost:8080/"
        },
        "outputId": "fe405998-c00b-4cfb-caea-ea399f369a2b"
      },
      "source": [
        "np.dot(dados7.T,dados7)"
      ],
      "execution_count": null,
      "outputs": [
        {
          "output_type": "execute_result",
          "data": {
            "text/plain": [
              "array([[125, 140, 155, 170, 185],\n",
              "       [140, 158, 176, 194, 212],\n",
              "       [155, 176, 197, 218, 239],\n",
              "       [170, 194, 218, 242, 266],\n",
              "       [185, 212, 239, 266, 293]])"
            ]
          },
          "metadata": {},
          "execution_count": 88
        }
      ]
    },
    {
      "cell_type": "markdown",
      "metadata": {
        "id": "tE7e1MpyEAGI"
      },
      "source": [
        "# Vejam que há muitas outras funções que podem ser exploradas como: sin, cos, power, mod, sqrt entre outros"
      ]
    }
  ]
}