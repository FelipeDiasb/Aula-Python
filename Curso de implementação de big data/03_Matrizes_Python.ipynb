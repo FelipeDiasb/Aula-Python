{
  "cells": [
    {
      "cell_type": "code",
      "execution_count": null,
      "metadata": {
        "id": "wBGw-TGb2J6x"
      },
      "outputs": [],
      "source": [
        "# Matrizes Python"
      ]
    },
    {
      "cell_type": "code",
      "source": [
        "n"
      ],
      "metadata": {
        "id": "EGfoWWSJZ2oK"
      },
      "execution_count": null,
      "outputs": []
    },
    {
      "cell_type": "markdown",
      "source": [
        "#Matrizes no Python - Revisão\n",
        "###Fundamentos de Big Data e Data Science\n",
        "###Aula 3\n",
        "###Prof. Msc.JEan Justino"
      ],
      "metadata": {
        "id": "JDftW1MpJQZs"
      }
    },
    {
      "cell_type": "code",
      "source": [],
      "metadata": {
        "id": "4FRRU1XtuAF0"
      },
      "execution_count": null,
      "outputs": []
    },
    {
      "cell_type": "code",
      "source": [],
      "metadata": {
        "id": "jcqmRdNhuA-r"
      },
      "execution_count": null,
      "outputs": []
    },
    {
      "cell_type": "markdown",
      "source": [
        "Crie um programa para gerar duas matrizes quadradas\n",
        "aleatórias(A e B), no intervalo [1, 10],\n",
        "de mesma ordem,  a qual deve ser de numeros aleatorios.\n",
        "Ao fim, o programa deve calcular e imprimir\n",
        "a soma entre os elementos de A que estão abaixo\n",
        "da diagonal principal\n",
        "com os elementos de B que estão acima da\n",
        "diagonal principal."
      ],
      "metadata": {
        "id": "3KQJF6ruHoMA"
      }
    },
    {
      "cell_type": "code",
      "source": [],
      "metadata": {
        "id": "E1flYrKB_fsn"
      },
      "execution_count": null,
      "outputs": []
    },
    {
      "cell_type": "markdown",
      "source": [
        "import random"
      ],
      "metadata": {
        "id": "47p6nosx2a5s"
      }
    },
    {
      "cell_type": "code",
      "source": [
        "A = [[2, 1, -5], [3, 7, 0], [6, 1, 8]]"
      ],
      "metadata": {
        "id": "wopPXZ_yqz-4"
      },
      "execution_count": null,
      "outputs": []
    },
    {
      "cell_type": "code",
      "source": [
        "print(A[2][2])"
      ],
      "metadata": {
        "id": "s5rqT4Nat6UR",
        "outputId": "8a960aa6-0f9b-4989-d135-eca049e1c314",
        "colab": {
          "base_uri": "https://localhost:8080/"
        }
      },
      "execution_count": null,
      "outputs": [
        {
          "output_type": "stream",
          "name": "stdout",
          "text": [
            "8\n"
          ]
        }
      ]
    },
    {
      "cell_type": "code",
      "source": [
        "B = [[1, 2, 3], [4, 5, 6], [7, 8, 9]]"
      ],
      "metadata": {
        "id": "3xT5unZ7q1Hb"
      },
      "execution_count": null,
      "outputs": []
    },
    {
      "cell_type": "code",
      "source": [
        "print(A[1][0])"
      ],
      "metadata": {
        "colab": {
          "base_uri": "https://localhost:8080/"
        },
        "id": "ExBhD7Yr9Pj2",
        "outputId": "c4aad018-5723-4e14-eae1-85e273052532"
      },
      "execution_count": null,
      "outputs": [
        {
          "output_type": "stream",
          "name": "stdout",
          "text": [
            "3\n"
          ]
        }
      ]
    },
    {
      "cell_type": "code",
      "source": [
        "from random import randrange as r\n",
        "\n",
        "A = [[r(0,11), r(0,11), r(0,11)], [r(0,11),r(0,11), r(0,11)], [r(0,11),r(0,11),r(0,11)]]\n",
        "B = [[r(0,11), r(0,11), r(0,11)], [r(0,11),r(0,11), r(0,11)], [r(0,11),r(0,11),r(0,11)]]\n",
        "print(A)\n",
        "print(B)\n",
        "\n",
        "soma = A[1][0] + A[2][0] + A[2][1] + B[0][1] + B[0][2] + B[1][2]\n",
        "\n",
        "print(soma)\n",
        "\n",
        "a = A[0][0]\n",
        "b = A[0][1]\n",
        "c = A[0][2]\n",
        "d = A[1][0]\n",
        "e = A[1][1]\n",
        "f = A[1][2]\n",
        "g = A[2][0]\n",
        "h = A[2][1]\n",
        "i = A[2][2]\n",
        "\n",
        "d = ((a * e * i) + (b * f * g) + (c * d * h)) - ((g * e * c) + (h * f * a) + (i * d * b))\n",
        "print(d)"
      ],
      "metadata": {
        "colab": {
          "base_uri": "https://localhost:8080/"
        },
        "id": "aAIB1WbY_kDH",
        "outputId": "4ffa45c7-5263-4175-97f8-7eda644b98d4"
      },
      "execution_count": null,
      "outputs": [
        {
          "output_type": "stream",
          "name": "stdout",
          "text": [
            "[[4, 2, 6], [9, 5, 5], [6, 3, 0]]\n",
            "[[10, 6, 6], [1, 3, 9], [4, 8, 10]]\n",
            "39\n",
            "-18\n"
          ]
        }
      ]
    },
    {
      "cell_type": "code",
      "source": [],
      "metadata": {
        "id": "kHwGuv-4Q_CN"
      },
      "execution_count": null,
      "outputs": []
    },
    {
      "cell_type": "code",
      "source": [
        "linhas = len(A)"
      ],
      "metadata": {
        "id": "aPYZTj1gq4H1"
      },
      "execution_count": null,
      "outputs": []
    },
    {
      "cell_type": "code",
      "source": [
        "colunas = len(A[0])"
      ],
      "metadata": {
        "id": "z1W3cxJXq6PZ"
      },
      "execution_count": null,
      "outputs": []
    },
    {
      "cell_type": "code",
      "execution_count": null,
      "metadata": {
        "id": "LyHO3H3I2gms"
      },
      "outputs": [],
      "source": [
        "#linhas = int(input(\"Número de linhas: \"))"
      ]
    },
    {
      "cell_type": "code",
      "execution_count": null,
      "metadata": {
        "id": "XfPRjGdH2j08"
      },
      "outputs": [],
      "source": [
        "#colunas = int(input(\"Número de colunas: \"))"
      ]
    },
    {
      "cell_type": "code",
      "source": [
        "#A = [[randrange(1, 11) for i in range(colunas)]\n",
        "                        #for j in range(linhas)]"
      ],
      "metadata": {
        "id": "fz6H84-Cst11"
      },
      "execution_count": null,
      "outputs": []
    },
    {
      "cell_type": "code",
      "source": [],
      "metadata": {
        "id": "MSZMpivdgXK7"
      },
      "execution_count": null,
      "outputs": []
    },
    {
      "cell_type": "code",
      "source": [
        "#B = [[randrange(1, 11) for i in range(colunas)]\n",
        "                      # for j in range(linhas)]"
      ],
      "metadata": {
        "id": "6lbU4FeSszfH"
      },
      "execution_count": null,
      "outputs": []
    },
    {
      "cell_type": "code",
      "source": [
        "abaixoDP = 0"
      ],
      "metadata": {
        "id": "Z0kufMMvs8iI"
      },
      "execution_count": null,
      "outputs": []
    },
    {
      "cell_type": "code",
      "source": [
        "acimaDP = 0"
      ],
      "metadata": {
        "id": "kove9ga2IMdh"
      },
      "execution_count": null,
      "outputs": []
    },
    {
      "cell_type": "code",
      "source": [
        "for i in range(linhas):\n",
        "    for j in range(colunas):\n",
        "        if i > j: #Elemento abaixo da DP da matriz A\n",
        "            abaixoDP += A[i][j]\n",
        "        if i < j: #Elemento acima da DP da matriz B\n",
        "            acimaDP += B[i][j]"
      ],
      "metadata": {
        "id": "Q6xn6b6VIPzA"
      },
      "execution_count": null,
      "outputs": []
    },
    {
      "cell_type": "code",
      "source": [
        "print(\"Matriz A:\")"
      ],
      "metadata": {
        "colab": {
          "base_uri": "https://localhost:8080/"
        },
        "id": "1y4N-O4SIf_V",
        "outputId": "0571fa2a-a306-425e-8754-1db18305b2e0"
      },
      "execution_count": null,
      "outputs": [
        {
          "output_type": "stream",
          "name": "stdout",
          "text": [
            "Matriz A:\n"
          ]
        }
      ]
    },
    {
      "cell_type": "code",
      "source": [
        "print(abaixoDP)"
      ],
      "metadata": {
        "colab": {
          "base_uri": "https://localhost:8080/"
        },
        "id": "S3a6XHkRs_JP",
        "outputId": "05851591-ae25-4064-b2b7-0638043426a7"
      },
      "execution_count": null,
      "outputs": [
        {
          "output_type": "stream",
          "name": "stdout",
          "text": [
            "10\n"
          ]
        }
      ]
    },
    {
      "cell_type": "code",
      "source": [
        "print(acimaDP)"
      ],
      "metadata": {
        "colab": {
          "base_uri": "https://localhost:8080/"
        },
        "id": "YczcAluHtIi9",
        "outputId": "5115cc2a-b8f8-46ca-d31f-4e30a8fafd9d"
      },
      "execution_count": null,
      "outputs": [
        {
          "output_type": "stream",
          "name": "stdout",
          "text": [
            "11\n"
          ]
        }
      ]
    },
    {
      "cell_type": "code",
      "source": [
        "# Imprime A"
      ],
      "metadata": {
        "id": "oqya3OcwIjpU"
      },
      "execution_count": null,
      "outputs": []
    },
    {
      "cell_type": "code",
      "source": [
        "for i in range(linhas):\n",
        "    for j in range(colunas):\n",
        "       print(A[i][j], end=' ')\n",
        "        print ()"
      ],
      "metadata": {
        "colab": {
          "base_uri": "https://localhost:8080/",
          "height": 108
        },
        "id": "HZ8LUCvSIlf0",
        "outputId": "5b3bf5f1-85c1-41f9-8acb-300cc91877fb"
      },
      "execution_count": null,
      "outputs": [
        {
          "output_type": "error",
          "ename": "IndentationError",
          "evalue": "unexpected indent (<ipython-input-12-ec76cdb8442f>, line 4)",
          "traceback": [
            "\u001b[0;36m  File \u001b[0;32m\"<ipython-input-12-ec76cdb8442f>\"\u001b[0;36m, line \u001b[0;32m4\u001b[0m\n\u001b[0;31m    print ()\u001b[0m\n\u001b[0m    ^\u001b[0m\n\u001b[0;31mIndentationError\u001b[0m\u001b[0;31m:\u001b[0m unexpected indent\n"
          ]
        }
      ]
    },
    {
      "cell_type": "code",
      "source": [
        "print(\"\\nMatriz B:\")"
      ],
      "metadata": {
        "colab": {
          "base_uri": "https://localhost:8080/"
        },
        "id": "5wyQVaKEIv-C",
        "outputId": "ae6de0a5-6957-434a-dbc7-2b5130577a60"
      },
      "execution_count": null,
      "outputs": [
        {
          "output_type": "stream",
          "name": "stdout",
          "text": [
            "\n",
            "Matriz B:\n"
          ]
        }
      ]
    },
    {
      "cell_type": "code",
      "source": [
        "# Imprime B"
      ],
      "metadata": {
        "id": "SzUb5CNfIyOw"
      },
      "execution_count": null,
      "outputs": []
    },
    {
      "cell_type": "code",
      "source": [
        "for i in range(linhas):\n",
        "    for i in range(linhas):\n",
        "      print(B[i][j], end=' ')\n",
        "        print()\n"
      ],
      "metadata": {
        "colab": {
          "base_uri": "https://localhost:8080/"
        },
        "id": "f06OU6vSI163",
        "outputId": "644b6904-8989-48ed-efa5-ad855a9e0404"
      },
      "execution_count": null,
      "outputs": [
        {
          "output_type": "stream",
          "name": "stdout",
          "text": [
            "\n",
            "\n",
            "\n",
            "\n",
            "\n",
            "\n",
            "\n",
            "\n",
            "\n"
          ]
        }
      ]
    },
    {
      "cell_type": "code",
      "source": [
        "print(f\"Soma = {abaixoDP + acimaDP}\")"
      ],
      "metadata": {
        "colab": {
          "base_uri": "https://localhost:8080/"
        },
        "id": "MCRWmeplI_P0",
        "outputId": "3f38500d-6195-4038-e2df-139b866dd7bf"
      },
      "execution_count": null,
      "outputs": [
        {
          "output_type": "stream",
          "name": "stdout",
          "text": [
            "Soma = 21\n"
          ]
        }
      ]
    },
    {
      "cell_type": "code",
      "source": [],
      "metadata": {
        "id": "LUiiau4oKMI7"
      },
      "execution_count": null,
      "outputs": []
    }
  ],
  "metadata": {
    "colab": {
      "provenance": []
    },
    "kernelspec": {
      "display_name": "Python 3",
      "name": "python3"
    },
    "language_info": {
      "name": "python"
    }
  },
  "nbformat": 4,
  "nbformat_minor": 0
}